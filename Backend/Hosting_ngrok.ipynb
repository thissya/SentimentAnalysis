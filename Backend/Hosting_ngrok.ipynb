{
  "nbformat": 4,
  "nbformat_minor": 0,
  "metadata": {
    "colab": {
      "provenance": []
    },
    "kernelspec": {
      "name": "python3",
      "display_name": "Python 3"
    },
    "language_info": {
      "name": "python"
    }
  },
  "cells": [
    {
      "cell_type": "code",
      "execution_count": 1,
      "metadata": {
        "colab": {
          "base_uri": "https://localhost:8080/"
        },
        "id": "YHVDxmOrRPa1",
        "outputId": "45f3f3e1-1435-48ae-d2f7-7c42f1c2579f"
      },
      "outputs": [
        {
          "output_type": "stream",
          "name": "stdout",
          "text": [
            "Requirement already satisfied: flask in /usr/local/lib/python3.10/dist-packages (2.2.5)\n",
            "Collecting pyspark\n",
            "  Downloading pyspark-3.5.2.tar.gz (317.3 MB)\n",
            "\u001b[2K     \u001b[90m━━━━━━━━━━━━━━━━━━━━━━━━━━━━━━━━━━━━━━━━\u001b[0m \u001b[32m317.3/317.3 MB\u001b[0m \u001b[31m5.0 MB/s\u001b[0m eta \u001b[36m0:00:00\u001b[0m\n",
            "\u001b[?25h  Preparing metadata (setup.py) ... \u001b[?25l\u001b[?25hdone\n",
            "Requirement already satisfied: Werkzeug>=2.2.2 in /usr/local/lib/python3.10/dist-packages (from flask) (3.0.3)\n",
            "Requirement already satisfied: Jinja2>=3.0 in /usr/local/lib/python3.10/dist-packages (from flask) (3.1.4)\n",
            "Requirement already satisfied: itsdangerous>=2.0 in /usr/local/lib/python3.10/dist-packages (from flask) (2.2.0)\n",
            "Requirement already satisfied: click>=8.0 in /usr/local/lib/python3.10/dist-packages (from flask) (8.1.7)\n",
            "Requirement already satisfied: py4j==0.10.9.7 in /usr/local/lib/python3.10/dist-packages (from pyspark) (0.10.9.7)\n",
            "Requirement already satisfied: MarkupSafe>=2.0 in /usr/local/lib/python3.10/dist-packages (from Jinja2>=3.0->flask) (2.1.5)\n",
            "Building wheels for collected packages: pyspark\n",
            "  Building wheel for pyspark (setup.py) ... \u001b[?25l\u001b[?25hdone\n",
            "  Created wheel for pyspark: filename=pyspark-3.5.2-py2.py3-none-any.whl size=317812365 sha256=ad3974dfc2463154fb5c78f8de3c04d46e49be48e21c5bb97a7e6d65cbc7cabd\n",
            "  Stored in directory: /root/.cache/pip/wheels/34/34/bd/03944534c44b677cd5859f248090daa9fb27b3c8f8e5f49574\n",
            "Successfully built pyspark\n",
            "Installing collected packages: pyspark\n",
            "Successfully installed pyspark-3.5.2\n"
          ]
        }
      ],
      "source": [
        "!pip install flask pyspark"
      ]
    },
    {
      "cell_type": "code",
      "source": [
        "!pip install pyngrok"
      ],
      "metadata": {
        "colab": {
          "base_uri": "https://localhost:8080/"
        },
        "id": "O7mlLq4HSB1Q",
        "outputId": "0f7a3d55-0336-4cd5-d4d4-1eee9059bec9"
      },
      "execution_count": 2,
      "outputs": [
        {
          "output_type": "stream",
          "name": "stdout",
          "text": [
            "Collecting pyngrok\n",
            "  Downloading pyngrok-7.2.0-py3-none-any.whl.metadata (7.4 kB)\n",
            "Requirement already satisfied: PyYAML>=5.1 in /usr/local/lib/python3.10/dist-packages (from pyngrok) (6.0.2)\n",
            "Downloading pyngrok-7.2.0-py3-none-any.whl (22 kB)\n",
            "Installing collected packages: pyngrok\n",
            "Successfully installed pyngrok-7.2.0\n"
          ]
        }
      ]
    },
    {
      "cell_type": "code",
      "source": [
        "!pip install flask flask-ngrok"
      ],
      "metadata": {
        "colab": {
          "base_uri": "https://localhost:8080/"
        },
        "id": "XxHp4uo3SjAH",
        "outputId": "8293daf3-a03f-4874-b5eb-3b5a6ef8c7d5"
      },
      "execution_count": 3,
      "outputs": [
        {
          "output_type": "stream",
          "name": "stdout",
          "text": [
            "Requirement already satisfied: flask in /usr/local/lib/python3.10/dist-packages (2.2.5)\n",
            "Collecting flask-ngrok\n",
            "  Downloading flask_ngrok-0.0.25-py3-none-any.whl.metadata (1.8 kB)\n",
            "Requirement already satisfied: Werkzeug>=2.2.2 in /usr/local/lib/python3.10/dist-packages (from flask) (3.0.3)\n",
            "Requirement already satisfied: Jinja2>=3.0 in /usr/local/lib/python3.10/dist-packages (from flask) (3.1.4)\n",
            "Requirement already satisfied: itsdangerous>=2.0 in /usr/local/lib/python3.10/dist-packages (from flask) (2.2.0)\n",
            "Requirement already satisfied: click>=8.0 in /usr/local/lib/python3.10/dist-packages (from flask) (8.1.7)\n",
            "Requirement already satisfied: requests in /usr/local/lib/python3.10/dist-packages (from flask-ngrok) (2.32.3)\n",
            "Requirement already satisfied: MarkupSafe>=2.0 in /usr/local/lib/python3.10/dist-packages (from Jinja2>=3.0->flask) (2.1.5)\n",
            "Requirement already satisfied: charset-normalizer<4,>=2 in /usr/local/lib/python3.10/dist-packages (from requests->flask-ngrok) (3.3.2)\n",
            "Requirement already satisfied: idna<4,>=2.5 in /usr/local/lib/python3.10/dist-packages (from requests->flask-ngrok) (3.7)\n",
            "Requirement already satisfied: urllib3<3,>=1.21.1 in /usr/local/lib/python3.10/dist-packages (from requests->flask-ngrok) (2.0.7)\n",
            "Requirement already satisfied: certifi>=2017.4.17 in /usr/local/lib/python3.10/dist-packages (from requests->flask-ngrok) (2024.7.4)\n",
            "Downloading flask_ngrok-0.0.25-py3-none-any.whl (3.1 kB)\n",
            "Installing collected packages: flask-ngrok\n",
            "Successfully installed flask-ngrok-0.0.25\n"
          ]
        }
      ]
    },
    {
      "cell_type": "code",
      "source": [
        "from flask_ngrok import run_with_ngrok\n",
        "from flask import Flask,request,render_template"
      ],
      "metadata": {
        "id": "UXvu4pJqSkfV"
      },
      "execution_count": 4,
      "outputs": []
    },
    {
      "cell_type": "code",
      "source": [
        "!pip install --upgrade pyngrok"
      ],
      "metadata": {
        "colab": {
          "base_uri": "https://localhost:8080/"
        },
        "id": "CKPz-h3GSmRP",
        "outputId": "683755aa-5fd3-41c3-da60-76c2173ff0d4"
      },
      "execution_count": 5,
      "outputs": [
        {
          "output_type": "stream",
          "name": "stdout",
          "text": [
            "Requirement already satisfied: pyngrok in /usr/local/lib/python3.10/dist-packages (7.2.0)\n",
            "Requirement already satisfied: PyYAML>=5.1 in /usr/local/lib/python3.10/dist-packages (from pyngrok) (6.0.2)\n"
          ]
        }
      ]
    },
    {
      "cell_type": "code",
      "source": [
        "from flask import Flask, request, jsonify\n",
        "from pyngrok import ngrok\n",
        "from pyspark.sql import SparkSession\n",
        "from pyspark.ml import PipelineModel\n",
        "\n",
        "from pyspark.ml.classification import LogisticRegressionModel\n",
        "from pyspark.sql.functions import udf\n",
        "from pyspark.sql.types import StringType\n",
        "\n"
      ],
      "metadata": {
        "id": "jIF5ZnVHTATN"
      },
      "execution_count": 6,
      "outputs": []
    },
    {
      "cell_type": "code",
      "source": [
        "!pip install flask-cors"
      ],
      "metadata": {
        "colab": {
          "base_uri": "https://localhost:8080/"
        },
        "id": "Th4psp3BnE79",
        "outputId": "659015e9-07f6-4fed-a3ee-ea09e96cebfd"
      },
      "execution_count": 8,
      "outputs": [
        {
          "output_type": "stream",
          "name": "stdout",
          "text": [
            "Collecting flask-cors\n",
            "  Downloading Flask_Cors-4.0.1-py2.py3-none-any.whl.metadata (5.5 kB)\n",
            "Requirement already satisfied: Flask>=0.9 in /usr/local/lib/python3.10/dist-packages (from flask-cors) (2.2.5)\n",
            "Requirement already satisfied: Werkzeug>=2.2.2 in /usr/local/lib/python3.10/dist-packages (from Flask>=0.9->flask-cors) (3.0.3)\n",
            "Requirement already satisfied: Jinja2>=3.0 in /usr/local/lib/python3.10/dist-packages (from Flask>=0.9->flask-cors) (3.1.4)\n",
            "Requirement already satisfied: itsdangerous>=2.0 in /usr/local/lib/python3.10/dist-packages (from Flask>=0.9->flask-cors) (2.2.0)\n",
            "Requirement already satisfied: click>=8.0 in /usr/local/lib/python3.10/dist-packages (from Flask>=0.9->flask-cors) (8.1.7)\n",
            "Requirement already satisfied: MarkupSafe>=2.0 in /usr/local/lib/python3.10/dist-packages (from Jinja2>=3.0->Flask>=0.9->flask-cors) (2.1.5)\n",
            "Downloading Flask_Cors-4.0.1-py2.py3-none-any.whl (14 kB)\n",
            "Installing collected packages: flask-cors\n",
            "Successfully installed flask-cors-4.0.1\n"
          ]
        }
      ]
    },
    {
      "cell_type": "code",
      "source": [
        "from flask_cors import CORS\n",
        "app = Flask(__name__)\n",
        "CORS(app)\n",
        "spark = SparkSession.builder \\\n",
        "    .appName(\"SentimentAnalysisAPI\") \\\n",
        "    .master(\"local[*]\") \\\n",
        "    .getOrCreate()\n",
        "\n",
        "pipelineModel = PipelineModel.load(\"/content/drive/MyDrive/pipeline_folder\")\n",
        "lrModel = LogisticRegressionModel.load(\"/content/drive/MyDrive/model_folder\")\n",
        "\n",
        "def map_prediction(prediction):\n",
        "    if prediction == 0:\n",
        "        return \"Negative\"\n",
        "    elif prediction == 2:\n",
        "        return \"Neutral\"\n",
        "    elif prediction == 1:\n",
        "        return \"Positive\"\n",
        "    else:\n",
        "        return \"Unknown\"\n",
        "\n",
        "map_prediction_udf = udf(map_prediction, StringType())\n",
        "\n",
        "@app.route('/')\n",
        "def home():\n",
        "    return \"Hello, World!\"\n",
        "\n",
        "@app.route('/predict', methods=['POST'])\n",
        "def predict_sentiment():\n",
        "    data = request.json\n",
        "\n",
        "    if 'text' not in data:\n",
        "        return jsonify({\"error\": \"No text field provided\"}), 400\n",
        "\n",
        "    new_data = spark.createDataFrame([(1, data['text'])], [\"id\", \"clean_text\"])\n",
        "\n",
        "    transformed_new_data = pipelineModel.transform(new_data)\n",
        "\n",
        "    predictions = lrModel.transform(transformed_new_data)\n",
        "\n",
        "    predictions_with_labels = predictions.withColumn(\"predicted_label\", map_prediction_udf(\"prediction\"))\n",
        "\n",
        "    result = predictions_with_labels.select(\"predicted_label\").collect()[0][\"predicted_label\"]\n",
        "\n",
        "    return jsonify({\"text\": data['text'], \"sentiment\": result})\n",
        "\n",
        "if __name__ == '__main__':\n",
        "    ngrok.set_auth_token('2lC10VNMNNHozy9qU2wBzosN3at_3QYjZW2FJ2sr1po7qXqqs')\n",
        "\n",
        "    public_url = ngrok.connect(5000)\n",
        "    print(f\" * ngrok tunnel \\\"{public_url}\\\" -> \\\"http://127.0.0.1:5000\\\"\")\n",
        "\n",
        "    app.run(port=5000)\n"
      ],
      "metadata": {
        "colab": {
          "base_uri": "https://localhost:8080/"
        },
        "id": "E53ikV-JUnWs",
        "outputId": "5cc0b6b6-28e4-4dea-bdfd-8d99fe85103a"
      },
      "execution_count": null,
      "outputs": [
        {
          "metadata": {
            "tags": null
          },
          "name": "stderr",
          "output_type": "stream",
          "text": [
            "WARNING:pyngrok.process.ngrok:t=2024-08-26T12:16:37+0000 lvl=warn msg=\"can't bind default web address, trying alternatives\" obj=web addr=127.0.0.1:4040\n"
          ]
        },
        {
          "metadata": {
            "tags": null
          },
          "name": "stdout",
          "output_type": "stream",
          "text": [
            " * ngrok tunnel \"NgrokTunnel: \"https://7e65-35-227-169-165.ngrok-free.app\" -> \"http://localhost:5000\"\" -> \"http://127.0.0.1:5000\"\n",
            " * Serving Flask app '__main__'\n",
            " * Debug mode: off\n"
          ]
        },
        {
          "metadata": {
            "tags": null
          },
          "name": "stderr",
          "output_type": "stream",
          "text": [
            "INFO:werkzeug:\u001b[31m\u001b[1mWARNING: This is a development server. Do not use it in a production deployment. Use a production WSGI server instead.\u001b[0m\n",
            " * Running on http://127.0.0.1:5000\n",
            "INFO:werkzeug:\u001b[33mPress CTRL+C to quit\u001b[0m\n",
            "INFO:werkzeug:127.0.0.1 - - [26/Aug/2024 12:17:04] \"OPTIONS /predict HTTP/1.1\" 200 -\n",
            "INFO:werkzeug:127.0.0.1 - - [26/Aug/2024 12:17:11] \"POST /predict HTTP/1.1\" 200 -\n",
            "INFO:werkzeug:127.0.0.1 - - [26/Aug/2024 12:17:27] \"OPTIONS /predict HTTP/1.1\" 200 -\n",
            "INFO:werkzeug:127.0.0.1 - - [26/Aug/2024 12:17:30] \"POST /predict HTTP/1.1\" 200 -\n",
            "INFO:werkzeug:127.0.0.1 - - [26/Aug/2024 12:17:38] \"OPTIONS /predict HTTP/1.1\" 200 -\n",
            "INFO:werkzeug:127.0.0.1 - - [26/Aug/2024 12:17:41] \"POST /predict HTTP/1.1\" 200 -\n",
            "INFO:werkzeug:127.0.0.1 - - [26/Aug/2024 12:17:47] \"OPTIONS /predict HTTP/1.1\" 200 -\n",
            "INFO:werkzeug:127.0.0.1 - - [26/Aug/2024 12:17:49] \"POST /predict HTTP/1.1\" 200 -\n",
            "INFO:werkzeug:127.0.0.1 - - [26/Aug/2024 12:18:45] \"OPTIONS /predict HTTP/1.1\" 200 -\n",
            "INFO:werkzeug:127.0.0.1 - - [26/Aug/2024 12:18:47] \"POST /predict HTTP/1.1\" 200 -\n",
            "INFO:werkzeug:127.0.0.1 - - [26/Aug/2024 12:20:39] \"OPTIONS /predict HTTP/1.1\" 200 -\n",
            "INFO:werkzeug:127.0.0.1 - - [26/Aug/2024 12:20:42] \"POST /predict HTTP/1.1\" 200 -\n",
            "INFO:werkzeug:127.0.0.1 - - [26/Aug/2024 12:26:04] \"OPTIONS /predict HTTP/1.1\" 200 -\n",
            "INFO:werkzeug:127.0.0.1 - - [26/Aug/2024 12:26:06] \"POST /predict HTTP/1.1\" 200 -\n",
            "INFO:werkzeug:127.0.0.1 - - [26/Aug/2024 12:26:51] \"OPTIONS /predict HTTP/1.1\" 200 -\n",
            "INFO:werkzeug:127.0.0.1 - - [26/Aug/2024 12:26:53] \"POST /predict HTTP/1.1\" 200 -\n",
            "INFO:werkzeug:127.0.0.1 - - [26/Aug/2024 12:27:06] \"OPTIONS /predict HTTP/1.1\" 200 -\n",
            "INFO:werkzeug:127.0.0.1 - - [26/Aug/2024 12:27:08] \"POST /predict HTTP/1.1\" 200 -\n",
            "INFO:werkzeug:127.0.0.1 - - [26/Aug/2024 12:27:21] \"OPTIONS /predict HTTP/1.1\" 200 -\n",
            "INFO:werkzeug:127.0.0.1 - - [26/Aug/2024 12:27:23] \"POST /predict HTTP/1.1\" 200 -\n",
            "INFO:werkzeug:127.0.0.1 - - [26/Aug/2024 12:27:26] \"POST /predict HTTP/1.1\" 200 -\n",
            "INFO:werkzeug:127.0.0.1 - - [26/Aug/2024 12:27:30] \"OPTIONS /predict HTTP/1.1\" 200 -\n",
            "INFO:werkzeug:127.0.0.1 - - [26/Aug/2024 12:27:32] \"POST /predict HTTP/1.1\" 200 -\n",
            "INFO:werkzeug:127.0.0.1 - - [26/Aug/2024 12:27:38] \"OPTIONS /predict HTTP/1.1\" 200 -\n",
            "INFO:werkzeug:127.0.0.1 - - [26/Aug/2024 12:27:40] \"POST /predict HTTP/1.1\" 200 -\n",
            "INFO:werkzeug:127.0.0.1 - - [26/Aug/2024 12:27:50] \"OPTIONS /predict HTTP/1.1\" 200 -\n",
            "INFO:werkzeug:127.0.0.1 - - [26/Aug/2024 12:27:51] \"POST /predict HTTP/1.1\" 200 -\n",
            "INFO:werkzeug:127.0.0.1 - - [26/Aug/2024 12:31:30] \"OPTIONS /predict HTTP/1.1\" 200 -\n",
            "INFO:werkzeug:127.0.0.1 - - [26/Aug/2024 12:31:33] \"POST /predict HTTP/1.1\" 200 -\n",
            "INFO:werkzeug:127.0.0.1 - - [26/Aug/2024 12:31:40] \"OPTIONS /predict HTTP/1.1\" 200 -\n",
            "INFO:werkzeug:127.0.0.1 - - [26/Aug/2024 12:31:43] \"POST /predict HTTP/1.1\" 200 -\n"
          ]
        }
      ]
    },
    {
      "cell_type": "code",
      "source": [],
      "metadata": {
        "id": "f3MY9g3JXMYW"
      },
      "execution_count": null,
      "outputs": []
    }
  ]
}